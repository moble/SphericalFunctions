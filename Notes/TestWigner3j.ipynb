{
 "metadata": {
  "name": "",
  "signature": "sha256:c78dad3062bc420f13d5cf4123d31325f13346fc5ca4613f5949bdc00fc54c48"
 },
 "nbformat": 3,
 "nbformat_minor": 0,
 "worksheets": [
  {
   "cells": [
    {
     "cell_type": "markdown",
     "metadata": {},
     "source": [
      "***NOTE:***  This notebook conains some old fragments referring to `GWFrames.Wigner3jSingleton`, which was a complicated singleton that allowed me to just evaluate all the Wigner 3-j symbols once, store them, and retrieve them (memoization).  As implemented, this was actually a bit *slower* than direct evaluation.  Even worse, it seemed to be *wrong* for many combinations.  Therefore, I have removed the singleton object."
     ]
    },
    {
     "cell_type": "code",
     "collapsed": false,
     "input": [
      "import sys\n",
      "from sympy import N\n",
      "from sympy.physics.wigner import wigner_3j\n",
      "from SphericalFunctions import Wigner3j"
     ],
     "language": "python",
     "metadata": {},
     "outputs": [],
     "prompt_number": 1
    },
    {
     "cell_type": "code",
     "collapsed": false,
     "input": [
      "%timeit Wigner3j(14,5,10,-11,3,8)"
     ],
     "language": "python",
     "metadata": {},
     "outputs": [
      {
       "output_type": "stream",
       "stream": "stdout",
       "text": [
        "1000000 loops, best of 3: 512 ns per loop\n"
       ]
      }
     ],
     "prompt_number": 2
    },
    {
     "cell_type": "code",
     "collapsed": false,
     "input": [
      "Wigner3j(3,4,1,-3,-4,0)"
     ],
     "language": "python",
     "metadata": {},
     "outputs": [
      {
       "metadata": {},
       "output_type": "pyout",
       "prompt_number": 3,
       "text": [
        "0.0"
       ]
      }
     ],
     "prompt_number": 3
    },
    {
     "cell_type": "code",
     "collapsed": false,
     "input": [
      "from math import isnan\n",
      "ellMax=16\n",
      "for j_1 in range(ellMax+1):\n",
      "    for m_1 in range(-j_1,j_1+1):\n",
      "        for j_2 in range(ellMax+1):\n",
      "            for m_2 in range(-j_2,j_2+1):\n",
      "                m_3 = -m_1-m_2\n",
      "                for j_3 in range(abs(j_1-j_2),min((j_1+j_2),ellMax)+1):\n",
      "                    if(abs(m_3)>j_3):\n",
      "                        continue\n",
      "                    a=Wigner3j(j_1,j_2,j_3,m_1,m_2,m_3)\n",
      "                    if(isnan(a)):\n",
      "                        print(j_1,j_2,j_3,m_1,m_2,m_3)"
     ],
     "language": "python",
     "metadata": {},
     "outputs": [],
     "prompt_number": 4
    },
    {
     "cell_type": "code",
     "collapsed": false,
     "input": [],
     "language": "python",
     "metadata": {},
     "outputs": []
    },
    {
     "cell_type": "code",
     "collapsed": false,
     "input": [],
     "language": "python",
     "metadata": {},
     "outputs": []
    },
    {
     "cell_type": "code",
     "collapsed": false,
     "input": [
      "%%time\n",
      "ellMax=16\n",
      "for j_1 in range(ellMax+1):\n",
      "    for m_1 in range(-j_1,j_1+1):\n",
      "        for j_2 in range(ellMax+1):\n",
      "            for m_2 in range(-j_2,j_2+1):\n",
      "                m_3 = -m_1-m_2\n",
      "                for j_3 in range(max(abs(m_3),abs(j_1-j_2)),min((j_1+j_2),ellMax)+1):\n",
      "                    a=Wigner3j(j_1,j_2,j_3,m_1,m_2,m_3)"
     ],
     "language": "python",
     "metadata": {},
     "outputs": [
      {
       "output_type": "stream",
       "stream": "stdout",
       "text": [
        "CPU times: user 1.83 s, sys: 9.52 ms, total: 1.84 s\n",
        "Wall time: 1.87 s\n"
       ]
      }
     ],
     "prompt_number": 7
    },
    {
     "cell_type": "raw",
     "metadata": {},
     "source": [
      "%%time\n",
      "for j_1 in range(ellMax+1):\n",
      "    for m_1 in range(-j_1,j_1+1):\n",
      "        for j_2 in range(ellMax+1):\n",
      "            for m_2 in range(-j_2,j_2+1):\n",
      "                m_3 = -m_1-m_2\n",
      "                for j_3 in range(max(abs(m_3),abs(j_1-j_2)),min((j_1+j_2),ellMax)+1):\n",
      "                    a=Wigner3j(j_1,j_2,j_3,m_1,m_2,m_3)"
     ]
    },
    {
     "cell_type": "code",
     "collapsed": false,
     "input": [],
     "language": "python",
     "metadata": {},
     "outputs": []
    },
    {
     "cell_type": "code",
     "collapsed": false,
     "input": [],
     "language": "python",
     "metadata": {},
     "outputs": []
    },
    {
     "cell_type": "raw",
     "metadata": {},
     "source": [
      "%%time\n",
      "i=0\n",
      "i_bad=0\n",
      "ellMax=4\n",
      "for j_1 in range(ellMax+1):\n",
      "    for m_1 in range(-j_1,j_1+1):\n",
      "        for j_2 in range(ellMax+1):\n",
      "            for m_2 in range(-j_2,j_2+1):\n",
      "                m_3 = -m_1-m_2\n",
      "                for j_3 in range(max(abs(m_3),abs(j_1-j_2)),min((j_1+j_2),ellMax)+1):\n",
      "                    i = i+1\n",
      "                    a,b = Wigner_3j(j_1,j_2,j_3,m_1,m_2,m_3),Wigner3j(j_1,j_2,j_3,m_1,m_2,m_3)\n",
      "                    if(abs(a-b)>1e-12*abs(a+b) and abs(a+b)>1e-12):\n",
      "                        print(j_1,j_2,j_3,m_1,m_2,m_3,a,b)\n",
      "                        sys.stdout.flush()\n",
      "                        i_bad=i_bad+1\n",
      "print(i,i_bad)"
     ]
    },
    {
     "cell_type": "code",
     "collapsed": false,
     "input": [
      "%%time\n",
      "ellMax=12\n",
      "i=0\n",
      "i_bad=0\n",
      "for j_1 in range(ellMax+1):\n",
      "    for m_1 in range(-j_1,j_1+1):\n",
      "        for j_2 in range(ellMax+1):\n",
      "            for m_2 in range(-j_2,j_2+1):\n",
      "                m_3 = -m_1-m_2\n",
      "                for j_3 in range(max(abs(m_3),abs(j_1-j_2)),min((j_1+j_2),ellMax)+1):\n",
      "                    i = i+1\n",
      "                    a,b = N(wigner_3j(j_1,j_2,j_3,m_1,m_2,m_3)),Wigner_3j(j_1,j_2,j_3,m_1,m_2,m_3)\n",
      "                    if(abs(a-b)>1e-12*abs(a+b) and abs(a+b)>1e-12):\n",
      "                        print(j_1,j_2,j_3,m_1,m_2,m_3,a,b)\n",
      "                        sys.stdout.flush()\n",
      "                        i_bad=i_bad+1\n",
      "print(i,i_bad)"
     ],
     "language": "python",
     "metadata": {},
     "outputs": []
    },
    {
     "cell_type": "code",
     "collapsed": false,
     "input": [
      "2.34/1419857"
     ],
     "language": "python",
     "metadata": {},
     "outputs": [
      {
       "metadata": {},
       "output_type": "pyout",
       "prompt_number": 8,
       "text": [
        "1.6480532898735576e-06"
       ]
      }
     ],
     "prompt_number": 8
    },
    {
     "cell_type": "code",
     "collapsed": false,
     "input": [],
     "language": "python",
     "metadata": {},
     "outputs": []
    },
    {
     "cell_type": "heading",
     "level": 1,
     "metadata": {},
     "source": [
      "Summations"
     ]
    },
    {
     "cell_type": "code",
     "collapsed": false,
     "input": [
      "from sympy import summation, simplify, expand, horner, symbols, N"
     ],
     "language": "python",
     "metadata": {},
     "outputs": [],
     "prompt_number": 10
    },
    {
     "cell_type": "code",
     "collapsed": false,
     "input": [
      "L,X,T,B,S,l,x,t,b,s,Lmax = symbols('L,X,T,B,S,l,x,t,b,s,Lmax', integer=True)"
     ],
     "language": "python",
     "metadata": {},
     "outputs": [],
     "prompt_number": 2
    },
    {
     "cell_type": "code",
     "collapsed": false,
     "input": [
      "horner(simplify((L*(24+L*(50+L*(35+L*(10+L))))/120).subs({L:L+1}).expand())*120)"
     ],
     "language": "python",
     "metadata": {},
     "outputs": [
      {
       "metadata": {},
       "output_type": "pyout",
       "prompt_number": 9,
       "text": [
        "L*(L*(L*(L*(L + 15) + 85) + 225) + 274) + 120"
       ]
      }
     ],
     "prompt_number": 9
    },
    {
     "cell_type": "code",
     "collapsed": false,
     "input": [
      "N((L*(24+L*(50+L*(35+L*(10+L))))/120).subs({L:16}))"
     ],
     "language": "python",
     "metadata": {},
     "outputs": [
      {
       "metadata": {},
       "output_type": "pyout",
       "prompt_number": 11,
       "text": [
        "15504.0000000000"
       ]
      }
     ],
     "prompt_number": 11
    },
    {
     "cell_type": "code",
     "collapsed": false,
     "input": [
      "N((L*(274+L*(225+L*(85+L*(15+L))))/120+1).subs(L,16))"
     ],
     "language": "python",
     "metadata": {},
     "outputs": [
      {
       "metadata": {},
       "output_type": "pyout",
       "prompt_number": 12,
       "text": [
        "20349.0000000000"
       ]
      }
     ],
     "prompt_number": 12
    },
    {
     "cell_type": "code",
     "collapsed": false,
     "input": [
      "N((L*(274+L*(225+L*(85+L*(15+L))))/120+1).subs(L,32))"
     ],
     "language": "python",
     "metadata": {},
     "outputs": [
      {
       "metadata": {},
       "output_type": "pyout",
       "prompt_number": 13,
       "text": [
        "435897.000000000"
       ]
      }
     ],
     "prompt_number": 13
    },
    {
     "cell_type": "code",
     "collapsed": false,
     "input": [],
     "language": "python",
     "metadata": {},
     "outputs": []
    },
    {
     "cell_type": "code",
     "collapsed": false,
     "input": [],
     "language": "python",
     "metadata": {},
     "outputs": []
    },
    {
     "cell_type": "code",
     "collapsed": false,
     "input": [],
     "language": "python",
     "metadata": {},
     "outputs": []
    },
    {
     "cell_type": "code",
     "collapsed": false,
     "input": [],
     "language": "python",
     "metadata": {},
     "outputs": []
    },
    {
     "cell_type": "code",
     "collapsed": false,
     "input": [],
     "language": "python",
     "metadata": {},
     "outputs": []
    },
    {
     "cell_type": "code",
     "collapsed": false,
     "input": [],
     "language": "python",
     "metadata": {},
     "outputs": []
    },
    {
     "cell_type": "code",
     "collapsed": false,
     "input": [],
     "language": "python",
     "metadata": {},
     "outputs": []
    },
    {
     "cell_type": "code",
     "collapsed": false,
     "input": [],
     "language": "python",
     "metadata": {},
     "outputs": []
    },
    {
     "cell_type": "code",
     "collapsed": false,
     "input": [],
     "language": "python",
     "metadata": {},
     "outputs": []
    },
    {
     "cell_type": "code",
     "collapsed": false,
     "input": [],
     "language": "python",
     "metadata": {},
     "outputs": []
    },
    {
     "cell_type": "code",
     "collapsed": false,
     "input": [],
     "language": "python",
     "metadata": {},
     "outputs": []
    },
    {
     "cell_type": "code",
     "collapsed": false,
     "input": [],
     "language": "python",
     "metadata": {},
     "outputs": []
    }
   ],
   "metadata": {}
  }
 ]
}